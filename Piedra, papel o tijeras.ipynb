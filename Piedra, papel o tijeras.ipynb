{
 "cells": [
  {
   "cell_type": "code",
   "execution_count": 5,
   "id": "1e49a5d9-b58d-491d-bd83-9a4988edbea3",
   "metadata": {},
   "outputs": [
    {
     "name": "stdout",
     "output_type": "stream",
     "text": [
      "Bienvenido al juego Piedra, Papel o Tijera\n",
      "\n",
      "----------------------------------------------------------------------\n"
     ]
    },
    {
     "name": "stdin",
     "output_type": "stream",
     "text": [
      "Rapido, escoge Piedra, Papel o Tijera\n",
      " tijera\n"
     ]
    },
    {
     "name": "stdout",
     "output_type": "stream",
     "text": [
      "----------------------------------------------------------------------\n",
      "Ganó el jugador | Puntos de partida | Jugador: 1 | IA: 0\n",
      "----------------------------------------------------------------------\n"
     ]
    },
    {
     "name": "stdin",
     "output_type": "stream",
     "text": [
      "Rapido, escoge Piedra, Papel o Tijera\n",
      " Tijera\n"
     ]
    },
    {
     "name": "stdout",
     "output_type": "stream",
     "text": [
      "----------------------------------------------------------------------\n",
      "Ganó la IA | Puntos de partida | Jugador: 1 | IA: 1\n",
      "----------------------------------------------------------------------\n"
     ]
    },
    {
     "name": "stdin",
     "output_type": "stream",
     "text": [
      "Rapido, escoge Piedra, Papel o Tijera\n",
      " tijera\n"
     ]
    },
    {
     "name": "stdout",
     "output_type": "stream",
     "text": [
      "----------------------------------------------------------------------\n",
      "Ganó el jugador | Puntos de partida | Jugador: 2 | IA: 1\n",
      "----------------------------------------------------------------------\n"
     ]
    },
    {
     "name": "stdin",
     "output_type": "stream",
     "text": [
      "Rapido, escoge Piedra, Papel o Tijera\n",
      " tijera\n"
     ]
    },
    {
     "name": "stdout",
     "output_type": "stream",
     "text": [
      "----------------------------------------------------------------------\n",
      "Ganó la IA | Puntos de partida | Jugador: 2 | IA: 2\n",
      "----------------------------------------------------------------------\n"
     ]
    },
    {
     "name": "stdin",
     "output_type": "stream",
     "text": [
      "Rapido, escoge Piedra, Papel o Tijera\n",
      " tijera\n"
     ]
    },
    {
     "name": "stdout",
     "output_type": "stream",
     "text": [
      "----------------------------------------------------------------------\n",
      "EMPATE | TIREN DE NUEVO\n",
      "----------------------------------------------------------------------\n"
     ]
    },
    {
     "name": "stdin",
     "output_type": "stream",
     "text": [
      "Rapido, escoge Piedra, Papel o Tijera\n",
      " tijera\n"
     ]
    },
    {
     "name": "stdout",
     "output_type": "stream",
     "text": [
      "----------------------------------------------------------------------\n",
      "EMPATE | TIREN DE NUEVO\n",
      "----------------------------------------------------------------------\n"
     ]
    },
    {
     "name": "stdin",
     "output_type": "stream",
     "text": [
      "Rapido, escoge Piedra, Papel o Tijera\n",
      " tijera\n"
     ]
    },
    {
     "name": "stdout",
     "output_type": "stream",
     "text": [
      "----------------------------------------------------------------------\n",
      "Ganó la IA | Puntos de partida | Jugador: 2 | IA: 3\n",
      "El ganador del juego fue la IA con 3 puntos\n"
     ]
    }
   ],
   "source": [
    "import random\n",
    "\n",
    "print(\"Bienvenido al juego Piedra, Papel o Tijera\\n\")\n",
    "\n",
    "movimientos = [\"piedra\", \"papel\", \"tijera\"]\n",
    "\n",
    "puntos_jugador, puntos_ia = 0,0\n",
    "\n",
    "while puntos_jugador < 3 and puntos_ia < 3:\n",
    "    print(\"----------------------------------------------------------------------\")\n",
    "    tirada = str(input((\"Rapido, escoge Piedra, Papel o Tijera\\n\"))).lower()\n",
    "    if tirada not in movimientos:\n",
    "        print(\"¡Movimiento no válido! Elige piedra, papel o tijera.\")\n",
    "        continue  # Pide de nuevo el input\n",
    "    print(\"----------------------------------------------------------------------\")\n",
    "    movimiento_ia = random.choice(movimientos)\n",
    "    match (tirada,movimiento_ia):\n",
    "        case (\"piedra\",\"tijera\"):  \n",
    "            puntos_jugador += 1\n",
    "            print(f\"Ganó el jugador | Puntos de partida | Jugador: {puntos_jugador} | IA: {puntos_ia}\")\n",
    "        case (\"piedra\",\"papel\"):\n",
    "            puntos_ia += 1\n",
    "            print(f\"Ganó la IA | Puntos de partida | Jugador: {puntos_jugador} | IA: {puntos_ia}\")\n",
    "        case (\"piedra\",\"piedra\"):\n",
    "            print(f\"EMPATE | TIREN DE NUEVO\")\n",
    "        case (\"tijera\",\"piedra\"):\n",
    "            puntos_ia += 1\n",
    "            print(f\"Ganó la IA | Puntos de partida | Jugador: {puntos_jugador} | IA: {puntos_ia}\")\n",
    "        case (\"tijera\",\"papel\"):\n",
    "            puntos_jugador += 1\n",
    "            print(f\"Ganó el jugador | Puntos de partida | Jugador: {puntos_jugador} | IA: {puntos_ia}\")\n",
    "        case (\"tijera\",\"tijera\"):\n",
    "            print(f\"EMPATE | TIREN DE NUEVO\")\n",
    "        case (\"papel\",\"tijera\"):\n",
    "            puntos_ia += 1\n",
    "            print(f\"Ganó la IA | Puntos de partida | Jugador: {puntos_jugador} | IA: {puntos_ia}\")\n",
    "        case (\"papel\",\"piedra\"):\n",
    "            puntos_jugador += 1\n",
    "            print(f\"Ganó el jugador | Puntos de partida | Jugador: {puntos_jugador} | IA: {puntos_ia}\")\n",
    "        case (\"papel\",\"papel\"):\n",
    "            print(f\"Ganó el jugador | Puntos de partida | Jugador: {puntos_jugador} | IA: {puntos_ia}\")\n",
    "\n",
    "if puntos_jugador > puntos_ia:\n",
    "    print(f\"El ganador del juego fue El jugador con {puntos_jugador} puntos\")\n",
    "else:\n",
    "    print(f\"El ganador del juego fue la IA con {puntos_ia} puntos\")\n",
    "    "
   ]
  },
  {
   "cell_type": "code",
   "execution_count": null,
   "id": "0647d77f-9a47-47f0-9435-209af5eb4625",
   "metadata": {},
   "outputs": [],
   "source": []
  },
  {
   "cell_type": "raw",
   "id": "e86807ec-180f-460d-9a85-88af6459792d",
   "metadata": {},
   "source": []
  }
 ],
 "metadata": {
  "kernelspec": {
   "display_name": "Python [conda env:base] *",
   "language": "python",
   "name": "conda-base-py"
  },
  "language_info": {
   "codemirror_mode": {
    "name": "ipython",
    "version": 3
   },
   "file_extension": ".py",
   "mimetype": "text/x-python",
   "name": "python",
   "nbconvert_exporter": "python",
   "pygments_lexer": "ipython3",
   "version": "3.12.7"
  }
 },
 "nbformat": 4,
 "nbformat_minor": 5
}
