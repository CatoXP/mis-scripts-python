{
 "cells": [
  {
   "cell_type": "code",
   "execution_count": 11,
   "id": "919e56bd-bbc6-48d1-a96a-c9af3f395c69",
   "metadata": {},
   "outputs": [
    {
     "name": "stdout",
     "output_type": "stream",
     "text": [
      "Limite de f(x) = x**2 cuando x -> 2: 4\n"
     ]
    }
   ],
   "source": [
    "import sympy as sp\n",
    "\n",
    "# F(X) = x**2 limite sea x ->2\n",
    "\n",
    "x = sp.Symbol(\"x\")\n",
    "\n",
    "f1 = x**2\n",
    "\n",
    "limite_f1=sp.limit(f1,x,2)\n",
    "\n",
    "print(f\"Limite de f(x) = x**2 cuando x -> 2: {limite_f1}\")"
   ]
  },
  {
   "cell_type": "code",
   "execution_count": 41,
   "id": "58098376-bae3-4a3f-84d5-3cf8a7ec494e",
   "metadata": {},
   "outputs": [
    {
     "name": "stdout",
     "output_type": "stream",
     "text": [
      "6\n"
     ]
    }
   ],
   "source": [
    "\n",
    "\n",
    "x = sp.symbols(\"x\")\n",
    "\n",
    "f1 = (x**2 - 9) / (x-3)\n",
    "\n",
    "limite = sp.limit(f1, x , 3)\n",
    "\n",
    "print(limite)"
   ]
  },
  {
   "cell_type": "code",
   "execution_count": 43,
   "id": "cd1d2cf3-2eb5-4a71-92c1-030ee678a6e1",
   "metadata": {},
   "outputs": [
    {
     "name": "stdout",
     "output_type": "stream",
     "text": [
      "107/49\n"
     ]
    }
   ],
   "source": [
    "x = sp.symbols('x')\n",
    "\n",
    "\n",
    "f1 = (3*x**2 + 5*x + 7) / (2*x**2 - x + 4)\n",
    "\n",
    "\n",
    "limite = sp.limit(f1, x, 5)\n",
    "\n",
    "\n",
    "print(limite)"
   ]
  },
  {
   "cell_type": "code",
   "execution_count": 47,
   "id": "b1f9fc78-f48f-4f3e-8af0-7afbece2c61c",
   "metadata": {},
   "outputs": [
    {
     "name": "stdout",
     "output_type": "stream",
     "text": [
      "11\n"
     ]
    }
   ],
   "source": [
    "x = sp.symbols('x')\n",
    "\n",
    "\n",
    "expr = (2*x + 3)**2 / (2*x + 3)\n",
    "\n",
    "\n",
    "limite = sp.limit(expr, x, 4)\n",
    "\n",
    "\n",
    "print(limite)"
   ]
  },
  {
   "cell_type": "code",
   "execution_count": null,
   "id": "387837d0-15d0-48ea-b928-ca50b2423fc1",
   "metadata": {},
   "outputs": [],
   "source": []
  }
 ],
 "metadata": {
  "kernelspec": {
   "display_name": "Python [conda env:base] *",
   "language": "python",
   "name": "conda-base-py"
  },
  "language_info": {
   "codemirror_mode": {
    "name": "ipython",
    "version": 3
   },
   "file_extension": ".py",
   "mimetype": "text/x-python",
   "name": "python",
   "nbconvert_exporter": "python",
   "pygments_lexer": "ipython3",
   "version": "3.12.7"
  }
 },
 "nbformat": 4,
 "nbformat_minor": 5
}
